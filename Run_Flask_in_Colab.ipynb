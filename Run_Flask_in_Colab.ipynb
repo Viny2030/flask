{
  "cells": [
    {
      "metadata": {
        "id": "v9_eWZtcw3Lc"
      },
      "cell_type": "markdown",
      "source": [
        "One month ago I have made a whole flask application in google colab.I did it because my laptop is very old and I am not able to install anyting in it.I want to deploy a model and the only way was to write whole application in colab only.Yesterday I thought about it that there are people like me in the same condition who are not able to set up the environment.So,I have decided to make a notebook in which I am going to run a flask application in colab.Without wasting much time let's get started."
      ]
    },
    {
      "metadata": {
        "id": "-HOf5qGUw3Lg"
      },
      "cell_type": "markdown",
      "source": [
        "I am going to make a flask application which will going to classify weather a comment is toxic or not.I have done EDA and made models on this problem.Have a look at it : https://www.kaggle.com/dikshabhati2002/toxic-comment-nlp-and-eda"
      ]
    },
    {
      "metadata": {
        "id": "SMTdNMltw3Li"
      },
      "cell_type": "markdown",
      "source": [
        "# Import Libraries"
      ]
    },
    {
      "metadata": {
        "id": "F5nLbrCKw3Lj"
      },
      "cell_type": "markdown",
      "source": [
        "First of all we have to download libraries in our google colab.So I am listing all the libaries you need to import for running flask application in colab.:\n",
        "\n",
        "*!pip install flask_cors*<br>\n",
        "*!pip install flask-ngrok*<br>\n",
        "*from flask_ngrok import run_with_ngrok*<br>\n",
        "*from flask import Flask*"
      ]
    },
    {
      "metadata": {
        "id": "NZxhYLgOw3Lk"
      },
      "cell_type": "markdown",
      "source": [
        "# Load Models in Colab\n",
        "So we have to load our model in colab.We are going to load model that we have saved in our previous notebook.You can check out those models in bottom of previous notebook.For loading model in colab the command is:\n",
        "\n",
        "*from google.colab import files*<br>\n",
        "*uploaded = files.upload()*"
      ]
    },
    {
      "metadata": {
        "id": "nfrvzBv5w3Ll"
      },
      "cell_type": "markdown",
      "source": [
        "# Make a templates folder"
      ]
    },
    {
      "metadata": {
        "id": "f0_Q1pHPw3Ll"
      },
      "cell_type": "markdown",
      "source": [
        "Now we have installed all the libraries and load the models our next step is to make a templates folder.This is the command for making template folder:\n"
      ]
    },
    {
      "metadata": {
        "trusted": true,
        "id": "ZZ7uEuUdw3Lm"
      },
      "cell_type": "code",
      "source": [
        "%mkdir templates -p"
      ],
      "execution_count": null,
      "outputs": []
    },
    {
      "metadata": {
        "id": "65sUgF7Tw3Ln"
      },
      "cell_type": "markdown",
      "source": [
        "# HTML file"
      ]
    },
    {
      "metadata": {
        "id": "TiS2PUI9w3Lo"
      },
      "cell_type": "markdown",
      "source": [
        "For creating a HTML file in colab there is a simple command that is *%%writefile*.So we have a save a html file code in templates folder for that we will going to write this command:\n",
        "\n",
        "*%%writefile templates/home.html*"
      ]
    },
    {
      "metadata": {
        "id": "PWX0daaCw3Lo"
      },
      "cell_type": "markdown",
      "source": [
        "**Here is the whole code that you have to run.It will create a HTML file in colab only:**\n",
        "\n",
        "    "
      ]
    },
    {
      "metadata": {
        "trusted": true,
        "id": "5hxMVAxHw3Lp"
      },
      "cell_type": "code",
      "source": [
        "%%writefile templates/home.html\n",
        "<!DOCTYPE html>\n",
        "<html>\n",
        "<head>\n",
        "\t<title>Home</title>\n",
        "\t<style>\n",
        "     body {\n",
        "            background-image: url(\"https://images.unsplash.com/photo-1572375992501-4b0892d50c69?ixid=MXwxMjA3fDB8MHxzZWFyY2h8Mnx8dGV4dHxlbnwwfHwwfA%3D%3D&ixlib=rb-1.2.1&auto=format&fit=crop&w=500&q=60\");\n",
        "            text-align: center;\n",
        "            padding: 0px;\n",
        "            background-position:center; background-repeat:no-repeat; background-size:cover;\n",
        "            margin:auto;\n",
        "        }\n",
        "    body{\n",
        "    font-family: 'Poppins',sans-serif;\n",
        "}\n",
        "\n",
        "header h1{\n",
        "    height:80px;\n",
        "    padding-top:40px;\n",
        "    background-color:#f2f2f2;\n",
        "    color:#000000;\n",
        "}\n",
        "\n",
        "section{\n",
        "    margin-top: 100px;\n",
        "    padding: 0 30px;\n",
        "    text-align: justify;\n",
        "    line-height: 30px;\n",
        "}\n",
        "section h1{\n",
        "    font-size: 42px;\n",
        "    text-align: center;\n",
        "    margin: 50px 0;\n",
        "    line-height:50px;\n",
        "}\n",
        ".text-box h1{\n",
        "    font-weight: 400;\n",
        "    font-size: 35px;\n",
        "    letter-spacing: 1px;\n",
        "}\n",
        "textarea{\n",
        "    height:150px;\n",
        "    width:70%;\n",
        "    font-size:20px;\n",
        "    border: 2px solid red;\n",
        "    border-radius: 6px;\n",
        "}\n",
        "\n",
        ".ml-container h4{\n",
        "text-align:center;\n",
        "background-color: #f2f2f2;\n",
        "padding-top:10px;\n",
        "margin-top:4px;\n",
        "border-radius:15px;\n",
        "width:600px;\n",
        "height:30px;\n",
        "margin:auto;\n",
        "}\n",
        "\n",
        ".btn-info{\n",
        "width: 200px;\n",
        "height: 50px;\n",
        "margin:auto;\n",
        "text-align: center;\n",
        "display:block;\n",
        "border-radius: 16px;\n",
        "font-size: 18px;\n",
        "background-color: blue;\n",
        "color: white;\n",
        "}\n",
        "    </style>\n",
        "</head>\n",
        "<body>\n",
        "\n",
        "    <header>\n",
        "        <div class=\"text-box\">\n",
        "            <h1><b>Toxic Comment Classifier</b></h1>\n",
        "        </div>\n",
        "    </header>\n",
        "    <br>\n",
        "\t<div class=\"ml-container\">\n",
        "\n",
        "\t\t<form action=\"{{ url_for('predict')}}\" method=\"POST\">\n",
        "\t\t<h4>Enter Comment</h4>\n",
        "        <br>\n",
        "\t\t<!-- <input type=\"text\" name=\"comment\"/> -->\n",
        "\t\t<textarea name=\"message\" rows=\"6\" cols=\"50\"></textarea>\n",
        "\t\t<br/>\n",
        "\n",
        "\t\t<input type=\"submit\" class=\"btn-info\" value=\"Submit\">\n",
        "\t\t</form>\n",
        "    </div>\n",
        "    <br>\n",
        "\n",
        "\t<div class=\"results\">\n",
        "\n",
        "\n",
        "\t<br><br><h1><font-color=\"black\">{{ prediction }}</font><h1>\n",
        "\t{% if prediction == 1%}\n",
        "\t<h2 style=\"color:red;\">Oops! This comment is nasty </h2>\n",
        "\t{% elif prediction == 0%}\n",
        "\t<h2 style=\"color:blue;\">Yayy! This comment contains no obscene words</h2>\n",
        "\t{% endif %}\n",
        "\n",
        "\t</div>\n",
        "\n",
        "\n",
        "</body>\n",
        "</html>"
      ],
      "execution_count": null,
      "outputs": []
    },
    {
      "metadata": {
        "id": "ABjeexz1w3Lr"
      },
      "cell_type": "markdown",
      "source": [
        "# Flask\n"
      ]
    },
    {
      "metadata": {
        "id": "oDpdo_Lsw3Ls"
      },
      "cell_type": "markdown",
      "source": [
        "**Now it's time to write a flask code.The command to run a flask app in colab is this command *run_with_ngrok(app)*.With the help of ngrok we can run flask in colab.Here is the flask code:**"
      ]
    },
    {
      "metadata": {
        "id": "-aFmXM6Sw3Lt"
      },
      "cell_type": "markdown",
      "source": [
        "\n",
        "\n",
        "from flask import Flask,render_template,url_for,request<br>\n",
        "import pandas as pd<br>\n",
        "import pickle<br>\n",
        "from sklearn.feature_extraction.text import CountVectorizer<br>\n",
        "from sklearn.naive_bayes import MultinomialNB<br>\n",
        "from sklearn.externals import joblib<br>\n",
        "import pickle<br>\n",
        "\n",
        "##### load the model <br>\n",
        "filename = 'toxic.pkl'<br>\n",
        "clf = pickle.load(open(filename, 'rb'))<br>\n",
        "cv=pickle.load(open('transform.pkl','rb'))<br>\n",
        "app = Flask(__name__)<br>\n",
        "run_with_ngrok(app)<br>\n",
        "\n",
        "@app.route('/')<br>\n",
        "def home():<br>\n",
        "\treturn render_template('home.html')<br>\n",
        "\n",
        "@app.route('/predict',methods=['POST'])<br>\n",
        "def predict():<br>\n",
        "\n",
        "\n",
        "\tif request.method == 'POST':<br>\n",
        "\t\tmessage = request.form['message']<br>\n",
        "\t\tdata = [message]<br>\n",
        "\t\tvect = cv.transform(data).toarray()<br>\n",
        "\t\tmy_prediction = clf.predict(vect)<br>\n",
        "\treturn render_template('home.html',prediction = my_prediction)<br>\n",
        "\n",
        "\n",
        "\n",
        "if __name__ == '__main__':<br>\n",
        "\tapp.run()<br>"
      ]
    },
    {
      "metadata": {
        "id": "dMV7hi5nw3Lt"
      },
      "cell_type": "markdown",
      "source": [
        "After running the cell click on http://efc5a51ee8fb.ngrok.io and now you are done.Here is what it looks like:"
      ]
    },
    {
      "metadata": {
        "id": "Y1Yxk5b9w3Lu"
      },
      "cell_type": "markdown",
      "source": [
        "![WhatsApp%20Image%202021-02-24%20at%209.06.35%20AM.jpeg](attachment:WhatsApp%20Image%202021-02-24%20at%209.06.35%20AM.jpeg)"
      ]
    },
    {
      "metadata": {
        "id": "REPyG_WQw3Lu"
      },
      "cell_type": "markdown",
      "source": [
        "# Heroku"
      ]
    },
    {
      "metadata": {
        "id": "GdXLcRubw3Lu"
      },
      "cell_type": "markdown",
      "source": [
        "**So I have also deployed the model on heroku.You can check it out and test it just by clicking this link : https://toxic-comment-prediction.herokuapp.com/**"
      ]
    },
    {
      "metadata": {
        "id": "59745ybSw3Lv"
      },
      "cell_type": "markdown",
      "source": [
        "**If you face any problem feel free to ask me on LinkedIn or in comment section and do upvote if you like it**"
      ]
    }
  ],
  "metadata": {
    "kernelspec": {
      "language": "python",
      "display_name": "Python 3",
      "name": "python3"
    },
    "language_info": {
      "pygments_lexer": "ipython3",
      "nbconvert_exporter": "python",
      "version": "3.6.4",
      "file_extension": ".py",
      "codemirror_mode": {
        "name": "ipython",
        "version": 3
      },
      "name": "python",
      "mimetype": "text/x-python"
    },
    "colab": {
      "provenance": []
    }
  },
  "nbformat": 4,
  "nbformat_minor": 0
}