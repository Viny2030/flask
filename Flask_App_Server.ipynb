{
  "nbformat": 4,
  "nbformat_minor": 0,
  "metadata": {
    "colab": {
      "provenance": []
    },
    "kernelspec": {
      "name": "python3",
      "display_name": "Python 3"
    },
    "language_info": {
      "name": "python"
    }
  },
  "cells": [
    {
      "cell_type": "markdown",
      "source": [
        "# Run a Flask App Server Inside Your Colab Notebook\n",
        "The companion blog article to this notebook can be found here.  http://www.storminthecastle.com/posts/colab_web/\n",
        "\n",
        "This notebook demonstrates running and embedded flask webservice within your colab notebook allowing you to unlock resources like the colab GPU for more interactive web applications.\n",
        "\n",
        "For updates and more content follow me on twitter [@johnrobinsn](https://www.twitter.com/johnrobinsn) or on my blog [storminthecastle.com](https://www.storminthecastle.com)."
      ],
      "metadata": {
        "id": "5Arj9btug0Ez"
      }
    },
    {
      "cell_type": "markdown",
      "source": [
        "## A Flask Appserver Running in Your Notebook"
      ],
      "metadata": {
        "id": "Je0__cFA2sG8"
      }
    },
    {
      "cell_type": "code",
      "source": [
        "# Run a python(flask)-based web service in your note book\n",
        "# You can reload this cell to restart the server if you make changes\n",
        "\n",
        "default_port = 6060\n",
        "\n",
        "from werkzeug.serving import make_server\n",
        "from flask import Flask\n",
        "import threading\n",
        "\n",
        "class ServerThread(threading.Thread):\n",
        "\n",
        "    def __init__(self, app, port):\n",
        "        threading.Thread.__init__(self)\n",
        "        self.port = port\n",
        "        self.srv = make_server('127.0.0.1', port, app)\n",
        "        self.ctx = app.app_context()\n",
        "        self.ctx.push()\n",
        "\n",
        "    def run(self):\n",
        "        print('starting server on port:',self.port)\n",
        "        self.srv.serve_forever()\n",
        "\n",
        "    def shutdown(self):\n",
        "        self.srv.shutdown()\n",
        "\n",
        "def start_server(port=default_port):\n",
        "    global server\n",
        "    if 'server' in globals() and server:\n",
        "      print('stopping server')\n",
        "      stop_server()\n",
        "\n",
        "    app = Flask('myapp')\n",
        "\n",
        "\n",
        "    # you can add your own routes here as needed\n",
        "    @app.route(\"/\")\n",
        "    def hello():\n",
        "      # A wee bit o'html\n",
        "      return '<h1 style=\"color:red;\">Hello From Flask!</h1>'\n",
        "\n",
        "    server = ServerThread(app,port)\n",
        "    server.start()\n",
        "\n",
        "def stop_server():\n",
        "    global server\n",
        "    if server:\n",
        "      server.shutdown()\n",
        "      server = None\n",
        "\n",
        "# Start the server here\n",
        "start_server()"
      ],
      "metadata": {
        "id": "zIJ6qx9CHhsx",
        "colab": {
          "base_uri": "https://localhost:8080/"
        },
        "outputId": "d61c172e-4b75-47a9-cf05-8164193e9c4e"
      },
      "execution_count": 1,
      "outputs": [
        {
          "output_type": "stream",
          "name": "stdout",
          "text": [
            "starting server on port: 6060\n"
          ]
        }
      ]
    },
    {
      "cell_type": "markdown",
      "source": [
        "## Demonstrate an HTTP Request from this notebook to the Embedded Flask Server"
      ],
      "metadata": {
        "id": "gu3e6-aU3KUe"
      }
    },
    {
      "cell_type": "code",
      "source": [
        "# Make a HTTP request to our little embedded webservice\n",
        "\n",
        "import requests\n",
        "\n",
        "r = requests.get('http://localhost:6060')\n",
        "print(r.text)"
      ],
      "metadata": {
        "colab": {
          "base_uri": "https://localhost:8080/"
        },
        "id": "Q1_Ynauhf1G2",
        "outputId": "b7da8e78-3455-49ed-b271-e80a94fe30db"
      },
      "execution_count": 2,
      "outputs": [
        {
          "output_type": "stream",
          "name": "stderr",
          "text": [
            "INFO:werkzeug:127.0.0.1 - - [06/May/2025 22:29:53] \"GET / HTTP/1.1\" 200 -\n"
          ]
        },
        {
          "output_type": "stream",
          "name": "stdout",
          "text": [
            "<h1 style=\"color:red;\">Hello From Flask!</h1>\n"
          ]
        }
      ]
    },
    {
      "cell_type": "markdown",
      "source": [
        "## Create an Embedded &lt;iframe&gt; and Load Content from Flask."
      ],
      "metadata": {
        "id": "q6cBRm4g3b8w"
      }
    },
    {
      "cell_type": "code",
      "source": [
        "# By executing this cell you will dynamically create an iframe within this cell of your notebook\n",
        "# this iframe can load an arbitrary web application which can access the flask webservice that is running\n",
        "# within this notebook.\n",
        "\n",
        "import IPython.display\n",
        "\n",
        "def display(port, height):\n",
        "    shell = \"\"\"\n",
        "        (async () => {\n",
        "            const url = await google.colab.kernel.proxyPort(%PORT%, {\"cache\": true});\n",
        "            const iframe = document.createElement('iframe');\n",
        "            iframe.src = url;\n",
        "            iframe.setAttribute('width', '100%');\n",
        "            iframe.setAttribute('height', '%HEIGHT%');\n",
        "            iframe.setAttribute('frameborder', 0);\n",
        "            document.body.appendChild(iframe);\n",
        "        })();\n",
        "    \"\"\"\n",
        "    replacements = [\n",
        "        (\"%PORT%\", \"%d\" % port),\n",
        "        (\"%HEIGHT%\", \"%d\" % height),\n",
        "    ]\n",
        "    for (k, v) in replacements:\n",
        "        shell = shell.replace(k, v)\n",
        "\n",
        "    script = IPython.display.Javascript(shell)\n",
        "    IPython.display.display(script)\n",
        "\n",
        "display(default_port, 400)"
      ],
      "metadata": {
        "colab": {
          "resources": {
            "https://localhost:6060/": {
              "data": "PGgxIHN0eWxlPSJjb2xvcjpyZWQ7Ij5IZWxsbyBGcm9tIEZsYXNrITwvaDE+",
              "ok": true,
              "headers": [
                [
                  "content-length",
                  "45"
                ],
                [
                  "content-type",
                  "text/html; charset=utf-8"
                ]
              ],
              "status": 200,
              "status_text": ""
            }
          },
          "base_uri": "https://localhost:8080/",
          "height": 421
        },
        "id": "owe0pIFXgZlq",
        "outputId": "2f6631e0-cd71-4367-aa5c-d3051853c6f7"
      },
      "execution_count": 3,
      "outputs": [
        {
          "output_type": "display_data",
          "data": {
            "text/plain": [
              "<IPython.core.display.Javascript object>"
            ],
            "application/javascript": [
              "\n",
              "        (async () => {\n",
              "            const url = await google.colab.kernel.proxyPort(6060, {\"cache\": true});\n",
              "            const iframe = document.createElement('iframe');\n",
              "            iframe.src = url;\n",
              "            iframe.setAttribute('width', '100%');\n",
              "            iframe.setAttribute('height', '400');\n",
              "            iframe.setAttribute('frameborder', 0);\n",
              "            document.body.appendChild(iframe);\n",
              "        })();\n",
              "    "
            ]
          },
          "metadata": {}
        }
      ]
    },
    {
      "cell_type": "markdown",
      "source": [
        "## In a future blog article I'll show you how to use these tools to add an interactive 3d visualization to your notebook using three.js.  \n",
        "\n",
        "\n",
        "For updates and more content follow me on twitter [@johnrobinsn](https://www.twitter.com/johnrobinsn) or on my blog [storminthecastle.com](https://www.storminthecastle.com).\n"
      ],
      "metadata": {
        "id": "fODP3imEy5kp"
      }
    },
    {
      "cell_type": "code",
      "source": [],
      "metadata": {
        "id": "yYLRnWc9zNbX"
      },
      "execution_count": 3,
      "outputs": []
    }
  ]
}