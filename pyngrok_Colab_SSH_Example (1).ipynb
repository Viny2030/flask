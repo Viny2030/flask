{
  "nbformat": 4,
  "nbformat_minor": 0,
  "metadata": {
    "colab": {
      "provenance": []
    },
    "kernelspec": {
      "name": "python3",
      "display_name": "Python 3"
    }
  },
  "cells": [
    {
      "cell_type": "code",
      "metadata": {
        "id": "zKDAYQi4wJbY",
        "outputId": "b06ef17b-17ad-4991-cd21-2e76230d1687",
        "colab": {
          "base_uri": "https://localhost:8080/"
        }
      },
      "source": [
        "import os\n",
        "import getpass\n",
        "\n",
        "# Prompt for a password that will be set for the SSH root user\n",
        "print(\"Enter a password for SSH access\")\n",
        "password = getpass.getpass()\n",
        "os.system(f\"echo root:{password} | chpasswd\")\n",
        "\n",
        "# Install\n",
        "os.system(\"apt-get install -y openssh-server\")\n",
        "\n",
        "# Setup and start the SSH server\n",
        "if not os.path.exists(\"/var/run/sshd\"):\n",
        "  os.makedirs(\"/var/run/sshd\")\n",
        "\n",
        "os.system(\"echo 'PermitRootLogin yes' >> /etc/ssh/sshd_config\")\n",
        "os.system(\"echo 'PasswordAuthentication yes' >> /etc/ssh/sshd_config\")\n",
        "\n",
        "os.system(\"/usr/sbin/sshd\")"
      ],
      "execution_count": null,
      "outputs": [
        {
          "name": "stdout",
          "output_type": "stream",
          "text": [
            "Enter a password for SSH access\n",
            "··········\n"
          ]
        },
        {
          "output_type": "execute_result",
          "data": {
            "text/plain": [
              "32512"
            ]
          },
          "metadata": {},
          "execution_count": 1
        }
      ]
    },
    {
      "cell_type": "code",
      "metadata": {
        "id": "W8YjINsA3svL",
        "colab": {
          "base_uri": "https://localhost:8080/"
        },
        "outputId": "19e87644-dfa4-4965-93a7-98dca23b14fe"
      },
      "source": [
        "from google.colab import drive\n",
        "\n",
        "drive.mount(\"/content/drive\")"
      ],
      "execution_count": null,
      "outputs": [
        {
          "output_type": "stream",
          "name": "stdout",
          "text": [
            "Drive already mounted at /content/drive; to attempt to forcibly remount, call drive.mount(\"/content/drive\", force_remount=True).\n"
          ]
        }
      ]
    },
    {
      "cell_type": "code",
      "metadata": {
        "id": "nwuh2gDAx6Mh",
        "colab": {
          "base_uri": "https://localhost:8080/"
        },
        "outputId": "6031388b-4b44-4410-b8a8-3dcd52a841ae"
      },
      "source": [
        "!pip install pyngrok"
      ],
      "execution_count": null,
      "outputs": [
        {
          "output_type": "stream",
          "name": "stdout",
          "text": [
            "Requirement already satisfied: pyngrok in /usr/local/lib/python3.10/dist-packages (7.0.3)\n",
            "Requirement already satisfied: PyYAML in /usr/local/lib/python3.10/dist-packages (from pyngrok) (6.0.1)\n"
          ]
        }
      ]
    },
    {
      "cell_type": "code",
      "metadata": {
        "id": "hvTNe-Blx7vJ",
        "colab": {
          "base_uri": "https://localhost:8080/"
        },
        "outputId": "a3b2089d-a78b-4aa7-c85a-53202c31a108"
      },
      "source": [
        "import getpass\n",
        "\n",
        "from pyngrok import ngrok, conf\n",
        "\n",
        "print(\"Enter your authtoken, which can be copied from https://dashboard.ngrok.com/get-started/your-authtoken\")\n",
        "conf.get_default().auth_token = getpass.getpass()\n",
        "\n",
        "# Open a TCP ngrok tunnel to the SSH server\n",
        "connection_string = ngrok.connect(22, \"tcp\").public_url\n",
        "\n",
        "ssh_url, port = connection_string.strip(\"tcp://\").split(\":\")\n",
        "print(f\" * ngrok tunnel available, access with `ssh root@{ssh_url} -p{port}`\")"
      ],
      "execution_count": null,
      "outputs": [
        {
          "output_type": "stream",
          "name": "stdout",
          "text": [
            "Enter your authtoken, which can be copied from https://dashboard.ngrok.com/get-started/your-authtoken\n",
            "··········\n",
            " * ngrok tunnel available, access with `ssh root@4.tcp.ngrok.io -p13880`\n",
            "Press Ctrl+C to exit\n"
          ]
        },
        {
          "output_type": "stream",
          "name": "stderr",
          "text": [
            "WARNING:pyngrok.process.ngrok:t=2023-12-27T17:10:23+0000 lvl=warn msg=\"failed to open private leg\" id=59faee7e1b59 typ=proxy privaddr=localhost:22 err=\"dial tcp 127.0.0.1:22: connect: connection refused\"\n"
          ]
        }
      ]
    }
  ]
}